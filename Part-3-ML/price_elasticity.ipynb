{
 "cells": [
  {
   "cell_type": "markdown",
   "metadata": {
    "application/vnd.databricks.v1+cell": {
     "cellMetadata": {},
     "inputWidgets": {},
     "nuid": "0e90845d-d455-419f-8456-198b2a470269",
     "showTitle": false,
     "title": ""
    }
   },
   "source": [
    "# Fueling Pricing Strategies with ML"
   ]
  },
  {
   "cell_type": "markdown",
   "metadata": {
    "application/vnd.databricks.v1+cell": {
     "cellMetadata": {},
     "inputWidgets": {},
     "nuid": "57e76205-74e2-4279-9db5-199349469b16",
     "showTitle": false,
     "title": ""
    }
   },
   "source": [
    "## Intro\n",
    "The purpose of this notebook is to serve as a simple non comprehensive guide on how to use mlFlow to register ML models that can then be served as an endpoint and use it to provide powerful ML capabilities to build real-time analytics applications."
   ]
  },
  {
   "cell_type": "markdown",
   "metadata": {
    "application/vnd.databricks.v1+cell": {
     "cellMetadata": {},
     "inputWidgets": {},
     "nuid": "24527d59-637d-4b7e-9790-02a972301837",
     "showTitle": false,
     "title": ""
    }
   },
   "source": [
    "## Building the model"
   ]
  },
  {
   "cell_type": "markdown",
   "metadata": {
    "application/vnd.databricks.v1+cell": {
     "cellMetadata": {},
     "inputWidgets": {},
     "nuid": "c341be6b-bb01-4a01-8662-f159b9522dbe",
     "showTitle": false,
     "title": ""
    }
   },
   "source": [
    "We will define a custom model using the pyfunc model wrapper and the statsmodels library to build a linnear regression using the OLS method. With this we will get the best possible line fit between the price and total sales data points, so we can explain the relationship between both variables with the slope of the line. Then we will use that slope value to define a new variable called \"price elasticity\", which explains the product sales sensitivity to different price changes. A product elasticity will be defined as: \n",
    "\n",
    "<br/>\n",
    "\n",
    "1.  \\\\( > 1  = \\\\) Elastic : Changes in prices have a significant change in demand \n",
    "1.  \\\\( < 1 = \\\\) Inelastic : Changes in prices don't have significant change in demand\n",
    "\n",
    "<br/>\n",
    "So let's have a look on how to build it with Python and serve the model over an endpoint so it can be called in real time and generate a new price elasticity and a predicted sales quantity"
   ]
  },
  {
   "cell_type": "code",
   "execution_count": 0,
   "metadata": {
    "application/vnd.databricks.v1+cell": {
     "cellMetadata": {
      "byteLimit": 2048000,
      "rowLimit": 10000
     },
     "inputWidgets": {},
     "nuid": "e11f3aa0-351f-4499-bf7a-cb64b475b8ba",
     "showTitle": false,
     "title": ""
    }
   },
   "outputs": [],
   "source": [
    "#Importing required libraries\n",
    "import numpy as np\n",
    "import pandas as pd\n",
    "import mlflow"
   ]
  },
  {
   "cell_type": "code",
   "execution_count": 0,
   "metadata": {
    "application/vnd.databricks.v1+cell": {
     "cellMetadata": {
      "byteLimit": 2048000,
      "rowLimit": 10000
     },
     "inputWidgets": {},
     "nuid": "f590ef15-affb-45ee-9f9d-bf1ed41aa079",
     "showTitle": false,
     "title": ""
    }
   },
   "outputs": [],
   "source": [
    "# define a custom model using the MlFlow pyfunc functionalities\n",
    "class MyModel(mlflow.pyfunc.PythonModel):\n",
    "    \n",
    "    def predict(self, context, model_input):\n",
    "        return self.my_custom_function(model_input)\n",
    "        \n",
    "    def my_custom_function(self, model_input):\n",
    "        import json \n",
    "        import numpy as np\n",
    "        import pandas as pd\n",
    "        from pandas import json_normalize\n",
    "        \n",
    "        #transforming data from JSON to pandas dataframe\n",
    "\n",
    "        data_frame = pd.json_normalize(model_input)\n",
    "        data_frame = data_frame.explode([\"event_time\", \"price\", \"total_sales\"]).drop([\"category_code\", \"brand\", \"revenue\"], axis=1)\n",
    "        data_frame = data_frame.reset_index(drop=True)\n",
    "                \n",
    "        # Calculating slope (Aka. price elasticity)\n",
    "        slope = ( (data_frame.price*data_frame.total_sales).mean() - data_frame.price.mean()*data_frame.total_sales.mean() ) / ( (((data_frame.price)**2).mean()) - (data_frame.price.mean())**2)\n",
    "        price_elasticity = (slope)*(data_frame.price.mean()/data_frame.total_sales.mean())\n",
    "\n",
    "        return price_elasticity"
   ]
  },
  {
   "cell_type": "code",
   "execution_count": 0,
   "metadata": {
    "application/vnd.databricks.v1+cell": {
     "cellMetadata": {
      "byteLimit": 2048000,
      "rowLimit": 10000
     },
     "inputWidgets": {},
     "nuid": "58e2e350-e12e-4b16-ac7d-22fd7e83492c",
     "showTitle": false,
     "title": ""
    }
   },
   "outputs": [],
   "source": [
    "#Logging model as a experiment  \n",
    "my_model = MyModel()\n",
    "with mlflow.start_run():\n",
    "    model_info = mlflow.pyfunc.log_model(artifact_path=\"model\", python_model=my_model)"
   ]
  },
  {
   "cell_type": "code",
   "execution_count": 0,
   "metadata": {
    "application/vnd.databricks.v1+cell": {
     "cellMetadata": {
      "byteLimit": 2048000,
      "rowLimit": 10000
     },
     "inputWidgets": {},
     "nuid": "56d59c13-d9a5-439c-aeef-dfb23d7663cb",
     "showTitle": false,
     "title": ""
    }
   },
   "outputs": [],
   "source": [
    "# load the model\n",
    "loaded_model = mlflow.pyfunc.load_model(model_uri=model_info.model_uri)"
   ]
  }
 ],
 "metadata": {
  "application/vnd.databricks.v1+notebook": {
   "dashboards": [],
   "language": "python",
   "notebookMetadata": {
    "pythonIndentUnit": 4
   },
   "notebookName": "Price Elasticity Of Demand",
   "widgets": {}
  }
 },
 "nbformat": 4,
 "nbformat_minor": 0
}
